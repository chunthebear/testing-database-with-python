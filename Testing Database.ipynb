{
 "cells": [
  {
   "cell_type": "code",
   "execution_count": 4,
   "metadata": {},
   "outputs": [],
   "source": [
    "import numpy as np\n",
    "import pandas as pd\n",
    "import matplotlib.pyplot as plt"
   ]
  },
  {
   "cell_type": "code",
   "execution_count": 6,
   "metadata": {},
   "outputs": [],
   "source": [
    "file = pd.read_csv(\"database.csv\")"
   ]
  },
  {
   "cell_type": "code",
   "execution_count": 8,
   "metadata": {},
   "outputs": [
    {
     "data": {
      "text/html": [
       "<div>\n",
       "<style scoped>\n",
       "    .dataframe tbody tr th:only-of-type {\n",
       "        vertical-align: middle;\n",
       "    }\n",
       "\n",
       "    .dataframe tbody tr th {\n",
       "        vertical-align: top;\n",
       "    }\n",
       "\n",
       "    .dataframe thead th {\n",
       "        text-align: right;\n",
       "    }\n",
       "</style>\n",
       "<table border=\"1\" class=\"dataframe\">\n",
       "  <thead>\n",
       "    <tr style=\"text-align: right;\">\n",
       "      <th></th>\n",
       "      <th>Name</th>\n",
       "      <th>NumberOfMembers</th>\n",
       "      <th>CurrentlyActive</th>\n",
       "      <th>SongTitle</th>\n",
       "      <th>Year</th>\n",
       "      <th>Ranking</th>\n",
       "      <th>Genre</th>\n",
       "      <th>Album</th>\n",
       "      <th>Label</th>\n",
       "      <th>Language</th>\n",
       "    </tr>\n",
       "  </thead>\n",
       "  <tbody>\n",
       "    <tr>\n",
       "      <th>0</th>\n",
       "      <td>Bjork</td>\n",
       "      <td>1</td>\n",
       "      <td>1</td>\n",
       "      <td>Army Of Me</td>\n",
       "      <td>1995</td>\n",
       "      <td>4</td>\n",
       "      <td>Industrial Rock</td>\n",
       "      <td>Post</td>\n",
       "      <td>One Litte Indian</td>\n",
       "      <td>English</td>\n",
       "    </tr>\n",
       "    <tr>\n",
       "      <th>1</th>\n",
       "      <td>Bjork</td>\n",
       "      <td>1</td>\n",
       "      <td>1</td>\n",
       "      <td>Human Behaviour</td>\n",
       "      <td>1993</td>\n",
       "      <td>1</td>\n",
       "      <td>Alternative</td>\n",
       "      <td>Debut</td>\n",
       "      <td>Elektra Records</td>\n",
       "      <td>English</td>\n",
       "    </tr>\n",
       "    <tr>\n",
       "      <th>2</th>\n",
       "      <td>Radiohead</td>\n",
       "      <td>5</td>\n",
       "      <td>1</td>\n",
       "      <td>Creep</td>\n",
       "      <td>1992</td>\n",
       "      <td>6</td>\n",
       "      <td>Alternative</td>\n",
       "      <td>Pablo Honey</td>\n",
       "      <td>Parlophone</td>\n",
       "      <td>English</td>\n",
       "    </tr>\n",
       "    <tr>\n",
       "      <th>3</th>\n",
       "      <td>Radiohead</td>\n",
       "      <td>5</td>\n",
       "      <td>1</td>\n",
       "      <td>Karma Police</td>\n",
       "      <td>1997</td>\n",
       "      <td>2</td>\n",
       "      <td>Alternative</td>\n",
       "      <td>OK Computer</td>\n",
       "      <td>Parlophone</td>\n",
       "      <td>English</td>\n",
       "    </tr>\n",
       "    <tr>\n",
       "      <th>4</th>\n",
       "      <td>Coldplay</td>\n",
       "      <td>4</td>\n",
       "      <td>1</td>\n",
       "      <td>Every Teardrop Is a Waterfall</td>\n",
       "      <td>2011</td>\n",
       "      <td>5</td>\n",
       "      <td>Alternative</td>\n",
       "      <td>Mylo Xyloto</td>\n",
       "      <td>Parlophone</td>\n",
       "      <td>English</td>\n",
       "    </tr>\n",
       "  </tbody>\n",
       "</table>\n",
       "</div>"
      ],
      "text/plain": [
       "        Name  NumberOfMembers  CurrentlyActive                      SongTitle  \\\n",
       "0      Bjork                1                1                     Army Of Me   \n",
       "1      Bjork                1                1                Human Behaviour   \n",
       "2  Radiohead                5                1                          Creep   \n",
       "3  Radiohead                5                1                   Karma Police   \n",
       "4   Coldplay                4                1  Every Teardrop Is a Waterfall   \n",
       "\n",
       "   Year  Ranking            Genre        Album             Label Language  \n",
       "0  1995        4  Industrial Rock         Post  One Litte Indian  English  \n",
       "1  1993        1      Alternative        Debut   Elektra Records  English  \n",
       "2  1992        6      Alternative  Pablo Honey        Parlophone  English  \n",
       "3  1997        2      Alternative  OK Computer        Parlophone  English  \n",
       "4  2011        5      Alternative  Mylo Xyloto        Parlophone  English  "
      ]
     },
     "execution_count": 8,
     "metadata": {},
     "output_type": "execute_result"
    }
   ],
   "source": [
    "file.head()"
   ]
  },
  {
   "cell_type": "code",
   "execution_count": 9,
   "metadata": {},
   "outputs": [
    {
     "data": {
      "text/plain": [
       "<matplotlib.axes._subplots.AxesSubplot at 0x282c9b11908>"
      ]
     },
     "execution_count": 9,
     "metadata": {},
     "output_type": "execute_result"
    },
    {
     "data": {
      "image/png": "[encoded data removed]",
      "text/plain": [
       "<matplotlib.figure.Figure at 0x282c9826908>"
      ]
     },
     "metadata": {},
     "output_type": "display_data"
    }
   ],
   "source": [
    "%matplotlib inline\n",
    "file[\"NumberOfMembers\"].plot(kind=\"hist\")"
   ]
  },
  {
   "cell_type": "code",
   "execution_count": 33,
   "metadata": {},
   "outputs": [
    {
     "data": {
      "text/plain": [
       "<matplotlib.axes._subplots.AxesSubplot at 0x282cb20f518>"
      ]
     },
     "execution_count": 33,
     "metadata": {},
     "output_type": "execute_result"
    },
    {
     "data": {
      "image/png": "[encoded data removed]",
      "text/plain": [
       "<matplotlib.figure.Figure at 0x282c9ee67b8>"
      ]
     },
     "metadata": {},
     "output_type": "display_data"
    }
   ],
   "source": [
    "#activeOrNot = pd.DataFrame(file[\"CurrentlyActive\"])\n",
    "array = file[\"CurrentlyActive\"].values\n",
    "\n",
    "i = 0\n",
    "c1 = 0\n",
    "for i in range(0, len(array)):\n",
    "    if array[i] == 1:\n",
    "        c1 = c1 + 1\n",
    "\n",
    "j = 0\n",
    "c2 = 0\n",
    "for j in range(0, len(array)):\n",
    "    if array[j] == 0:\n",
    "        c2 = c2 + 1\n",
    "\n",
    "toPlot = pd.Series([c1*100/len(array), c2*100/len(array)])\n",
    "toPlot.plot.pie(figsize=(6, 6), labels=[\"Currently Active\", \"Currently Not Active\"], title = \"Status\")"
   ]
  },
  {
   "cell_type": "code",
   "execution_count": null,
   "metadata": {},
   "outputs": [],
   "source": []
  },
  {
   "cell_type": "code",
   "execution_count": null,
   "metadata": {},
   "outputs": [],
   "source": []
  }
 ],
 "metadata": {
  "kernelspec": {
   "display_name": "Python 3",
   "language": "python",
   "name": "python3"
  },
  "language_info": {
   "codemirror_mode": {
    "name": "ipython",
    "version": 3
   },
   "file_extension": ".py",
   "mimetype": "text/x-python",
   "name": "python",
   "nbconvert_exporter": "python",
   "pygments_lexer": "ipython3",
   "version": "3.6.4"
  }
 },
 "nbformat": 4,
 "nbformat_minor": 2
}
